{
 "cells": [
  {
   "cell_type": "code",
   "execution_count": 6,
   "id": "ab8320cc",
   "metadata": {},
   "outputs": [
    {
     "name": "stdout",
     "output_type": "stream",
     "text": [
      "C\n",
      "O\n",
      "M\n",
      "P\n",
      "U\n",
      "T\n",
      "A\n",
      "T\n",
      "I\n",
      "O\n",
      "N\n",
      "A\n",
      "L\n",
      "h\n",
      "i\n",
      "l\n",
      "d\n",
      "a\n"
     ]
    }
   ],
   "source": [
    "w=\"COMPUTATIONAL\"\n",
    "\n",
    "for char in w:\n",
    "    print(char)\n",
    "    \n",
    "D=\"hilda\"\n",
    "for char in D:\n",
    "    print (char)\n",
    "    "
   ]
  },
  {
   "cell_type": "code",
   "execution_count": 1,
   "id": "0119df20",
   "metadata": {},
   "outputs": [
    {
     "name": "stdout",
     "output_type": "stream",
     "text": [
      "       SME   Day 1   Day 2   Day 3  Day 4  Day 5\n",
      "0  Kiosk 1   39000   78659  40,555  16000  14520\n",
      "1  Kiosk 2  50,000   10000   37000  98952  22541\n",
      "2  Kiosk 3  40,555   36000   45002  14520  25552\n",
      "3  Kiosk 4  40,505  40,500   78223  45862  22125\n",
      "4  Kiosk 5  40,655   51000   25811  14008  12500\n"
     ]
    }
   ],
   "source": [
    "import pandas as pd\n",
    "Data=pd.read_csv('COMPUTATION II.csv')\n",
    "print(Data)\n",
    "\n"
   ]
  },
  {
   "cell_type": "code",
   "execution_count": 1,
   "id": "36240fba",
   "metadata": {},
   "outputs": [
    {
     "name": "stderr",
     "output_type": "stream",
     "text": [
      "C:\\Users\\user\\AppData\\Local\\Temp\\ipykernel_9248\\1041525865.py:2: DtypeWarning: Columns (0,1,2,3,4,5,6,7,8,9,10,11,12,13,14,15) have mixed types. Specify dtype option on import or set low_memory=False.\n",
      "  Data=pd.read_csv('CM2.csv')\n"
     ]
    },
    {
     "name": "stdout",
     "output_type": "stream",
     "text": [
      "      374333187171                                 Ms   Muchiri  \\\n",
      "0     364911023262                                 Mr    ACHOLA   \n",
      "1     330544937330  Aspiring MP Hon Abdikadir Hussein  Emokapel   \n",
      "2     341466209140                                 Mr    martin   \n",
      "3     332822691432                                 Mr   Ochieng   \n",
      "4     302544818605                                 Mr   ONGANYA   \n",
      "...            ...                                ...       ...   \n",
      "1035           NaN                                NaN       NaN   \n",
      "1036           NaN                                NaN       NaN   \n",
      "1037           NaN                                NaN       NaN   \n",
      "1038           NaN                                NaN       NaN   \n",
      "1039           NaN                                NaN       NaN   \n",
      "\n",
      "          Abby Mukami  Kenya female    abbybundi.am@gmail.com  none  \\\n",
      "0           Abdifatah  Kenya   male  fatahowahmed33@gmail.com  none   \n",
      "1           Abdisamad  Kenya   male   abdisamadm230@gmail.com  none   \n",
      "2     Abdisamad hafif  Kenya   male   abdisamad2060@gmail.com  none   \n",
      "3         Abdul Kadir  Kenya   male     jaylanmumin@gmail.com  none   \n",
      "4         Abed Muteti  Kenya   male      Lanceabeid@gmail.com  none   \n",
      "...               ...    ...    ...                       ...   ...   \n",
      "1035              NaN    NaN    NaN                       NaN   NaN   \n",
      "1036              NaN    NaN    NaN                       NaN   NaN   \n",
      "1037              NaN    NaN    NaN                       NaN   NaN   \n",
      "1038              NaN    NaN    NaN                       NaN   NaN   \n",
      "1039              NaN    NaN    NaN                       NaN   NaN   \n",
      "\n",
      "      12/12/1994   single  ... Unnamed: 16345 Unnamed: 16346 Unnamed: 16347  \\\n",
      "0     01/01/1963   single  ...            NaN            NaN            NaN   \n",
      "1     21/10/1986   single  ...            NaN            NaN            NaN   \n",
      "2     30/12/1993   single  ...            NaN            NaN            NaN   \n",
      "3     09/10/1998   single  ...            NaN            NaN            NaN   \n",
      "4     09/03/2000  married  ...            NaN            NaN            NaN   \n",
      "...          ...      ...  ...            ...            ...            ...   \n",
      "1035         NaN      NaN  ...            NaN            NaN            NaN   \n",
      "1036         NaN      NaN  ...            NaN            NaN            NaN   \n",
      "1037         NaN      NaN  ...            NaN            NaN            NaN   \n",
      "1038         NaN      NaN  ...            NaN            NaN            NaN   \n",
      "1039         NaN      NaN  ...            NaN            NaN            NaN   \n",
      "\n",
      "     Unnamed: 16348 Unnamed: 16349 Unnamed: 16350  Unnamed: 16351  \\\n",
      "0               NaN            NaN            NaN             NaN   \n",
      "1               NaN            NaN            NaN             NaN   \n",
      "2               NaN            NaN            NaN             NaN   \n",
      "3               NaN            NaN            NaN             NaN   \n",
      "4               NaN            NaN            NaN             NaN   \n",
      "...             ...            ...            ...             ...   \n",
      "1035            NaN            NaN            NaN             NaN   \n",
      "1036            NaN            NaN            NaN             NaN   \n",
      "1037            NaN            NaN            NaN             NaN   \n",
      "1038            NaN            NaN            NaN             NaN   \n",
      "1039            NaN            NaN            NaN             NaN   \n",
      "\n",
      "      Unnamed: 16352  Unnamed: 16353  Unnamed: 16354  \n",
      "0                NaN             NaN             NaN  \n",
      "1                NaN             NaN             NaN  \n",
      "2                NaN             NaN             NaN  \n",
      "3                NaN             NaN             NaN  \n",
      "4                NaN             NaN             NaN  \n",
      "...              ...             ...             ...  \n",
      "1035             NaN             NaN             NaN  \n",
      "1036             NaN             NaN             NaN  \n",
      "1037             NaN             NaN             NaN  \n",
      "1038             NaN             NaN             NaN  \n",
      "1039             NaN             NaN             NaN  \n",
      "\n",
      "[1040 rows x 16355 columns]\n"
     ]
    }
   ],
   "source": [
    "import pandas as pd\n",
    "Data=pd.read_csv('CM2.csv')\n",
    "print(Data)\n"
   ]
  },
  {
   "cell_type": "code",
   "execution_count": 17,
   "id": "7ae852d2",
   "metadata": {},
   "outputs": [
    {
     "data": {
      "image/png": "[encoded data removed]",
      "text/plain": [
       "<Figure size 432x288 with 1 Axes>"
      ]
     },
     "metadata": {
      "needs_background": "light"
     },
     "output_type": "display_data"
    }
   ],
   "source": [
    "import matplotlib.pyplot as plt\n",
    "# kiosk 1\n",
    "y=[\"3900\",\"78659\", \"40555\", \"16000\", \"14520\"]\n",
    "x=[\"Day1\", \"Day2\", \"Day3\", \"Day4\", \"Day5\"]\n",
    "\n",
    "plt.scatter(x,y)\n",
    "\n",
    "# kiosk 3\n",
    "y=[\"40,555\",\"36000\", \"45002\", \"14520\", \"25552\"]\n",
    "x=[\"Day1\", \"Day2\", \"Day3\", \"Day4\", \"Day5\"]\n",
    "\n",
    "plt.scatter(x,y)\n",
    "plt.title(\"scatter plot\")\n",
    "plt.xlabel(\"Days\")\n",
    "plt.ylabel(\"SME\")\n",
    "plt.show()"
   ]
  },
  {
   "cell_type": "code",
   "execution_count": 7,
   "id": "ecc43694",
   "metadata": {},
   "outputs": [
    {
     "name": "stdout",
     "output_type": "stream",
     "text": [
      "['pink', 'violet', 'indigo', 'green', 'orange', 'red', 'white']\n"
     ]
    }
   ],
   "source": [
    "colors = [\"violet\", \"indigo\", \"blue\", \"green\", \"yellow\", \"orange\", \"red\"]\n",
    "colors.remove(\"yellow\")\n",
    "colors.remove(\"blue\")\n",
    "colors.append(\"white\")\n",
    "colors.insert(0, \"pink\")\n",
    "print(colors)\n"
   ]
  },
  {
   "cell_type": "code",
   "execution_count": 10,
   "id": "4a686997",
   "metadata": {},
   "outputs": [
    {
     "name": "stdout",
     "output_type": "stream",
     "text": [
      "[[ 7  0 -3]\n",
      " [-3 -2 -9]\n",
      " [-8  0 18]]\n"
     ]
    }
   ],
   "source": [
    "import numpy as np\n",
    "A = np.array([[7, 0, -3],\n",
    "              [-3, -2, -9],\n",
    "              [-8, 0, 18]])\n",
    "print(A)"
   ]
  },
  {
   "cell_type": "code",
   "execution_count": 3,
   "id": "dfefca11",
   "metadata": {},
   "outputs": [
    {
     "name": "stdout",
     "output_type": "stream",
     "text": [
      "/nEigenvalues of A:\n",
      "[-2.          5.13454007 19.86545993]\n",
      "Eigenvectors of A:\n",
      "[[ 0.         -0.59355441  0.21300033]\n",
      " [ 1.          0.71517142  0.3467588 ]\n",
      " [ 0.         -0.36908399 -0.91344907]]\n",
      "\n",
      "Determinant of A: -203.99999999999994\n",
      "\n",
      "Transpose of A:\n",
      "[[ 7 -3 -8]\n",
      " [ 0 -2  0]\n",
      " [-3 -9 18]]\n",
      "\n",
      " Matrix A:\n",
      "[[ 1  0 -3]\n",
      " [-3 -2 -9]\n",
      " [-8  0  1]]\n"
     ]
    }
   ],
   "source": [
    "import numpy as np\n",
    "eigenvalues, eigenvectors = np.linalg.eig(A)\n",
    "print(\"/nEigenvalues of A:\")\n",
    "print(eigenvalues)\n",
    "print(\"Eigenvectors of A:\")\n",
    "print(eigenvectors)\n",
    "print()\n",
    "determinant_A = np.linalg.det(A)\n",
    "print(\"Determinant of A:\", determinant_A)\n",
    "print()\n",
    "transpose_A = np.transpose(A)\n",
    "print(\"Transpose of A:\")\n",
    "print(transpose_A)\n",
    "print()\n",
    "A[0, 0] = 1\n",
    "A[2, 2] = 1\n",
    "print(\" Matrix A:\")\n",
    "print(A)"
   ]
  },
  {
   "cell_type": "code",
   "execution_count": 9,
   "id": "4bdea183",
   "metadata": {},
   "outputs": [
    {
     "name": "stdout",
     "output_type": "stream",
     "text": [
      "1\n",
      "3\n",
      "5\n",
      "7\n",
      "9\n",
      "11\n",
      "13\n",
      "15\n",
      "17\n",
      "19\n",
      "21\n",
      "23\n",
      "25\n",
      "27\n",
      "29\n",
      "31\n",
      "33\n",
      "35\n",
      "37\n",
      "39\n",
      "41\n",
      "43\n",
      "45\n",
      "47\n",
      "49\n",
      "51\n",
      "53\n",
      "55\n",
      "57\n",
      "59\n",
      "61\n",
      "63\n",
      "65\n",
      "67\n",
      "69\n",
      "71\n",
      "73\n",
      "75\n",
      "77\n",
      "79\n",
      "81\n",
      "83\n",
      "85\n",
      "87\n",
      "89\n",
      "91\n",
      "93\n",
      "95\n",
      "97\n",
      "99\n"
     ]
    }
   ],
   "source": [
    "for number in range(1, 101, 2):\n",
    "    print(number)\n"
   ]
  },
  {
   "cell_type": "code",
   "execution_count": 8,
   "id": "55e694f0",
   "metadata": {},
   "outputs": [
    {
     "name": "stdout",
     "output_type": "stream",
     "text": [
      "HAPPY NEW YEAR\n",
      "HAPPY NEW YEAR\n",
      "HAPPY NEW YEAR\n",
      "HAPPY NEW YEAR\n",
      "HAPPY NEW YEAR\n",
      "HAPPY NEW YEAR\n",
      "HAPPY NEW YEAR\n",
      "HAPPY NEW YEAR\n",
      "HAPPY NEW YEAR\n",
      "HAPPY NEW YEAR\n",
      "HAPPY NEW YEAR\n",
      "HAPPY NEW YEAR\n",
      "HAPPY NEW YEAR\n",
      "HAPPY NEW YEAR\n"
     ]
    }
   ],
   "source": [
    "STRING = \"HAPPY NEW YEAR\"\n",
    "\n",
    "for S in range(0, 14):  \n",
    "    print(STRING¨)  "
   ]
  },
  {
   "cell_type": "code",
   "execution_count": 1,
   "id": "3217bfd9",
   "metadata": {},
   "outputs": [
    {
     "name": "stdout",
     "output_type": "stream",
     "text": [
      "t=0.00, x=0.2000, y=0.5000\n",
      "t=0.00, x=0.2000, y=0.5000\n",
      "t=0.03, x=0.2000, y=0.4998\n",
      "t=0.20, x=0.1999, y=0.4877\n",
      "t=0.42, x=0.1985, y=0.4490\n",
      "t=0.72, x=0.1879, y=0.3558\n",
      "t=1.15, x=0.1355, y=0.1761\n",
      "t=1.74, x=-0.0222, y=-0.0883\n",
      "t=2.29, x=-0.1885, y=-0.2990\n",
      "t=2.84, x=-0.2604, y=-0.4427\n",
      "t=3.31, x=-0.2266, y=-0.4785\n",
      "t=3.77, x=-0.1550, y=-0.4088\n",
      "t=4.27, x=-0.0823, y=-0.2146\n",
      "t=4.77, x=-0.0116, y=0.0421\n",
      "t=5.26, x=0.0878, y=0.2704\n",
      "t=5.78, x=0.2117, y=0.4197\n",
      "t=6.30, x=0.2788, y=0.4605\n",
      "t=6.86, x=0.2190, y=0.3935\n",
      "t=7.39, x=0.0763, y=0.2286\n",
      "t=7.94, x=-0.0528, y=-0.0231\n",
      "t=8.43, x=-0.1206, y=-0.2665\n",
      "t=8.92, x=-0.1702, y=-0.4409\n",
      "t=9.38, x=-0.2186, y=-0.4902\n",
      "t=9.84, x=-0.2413, y=-0.4283\n",
      "t=10.00, x=-0.2345, y=-0.3861\n"
     ]
    }
   ],
   "source": [
    "\n",
    "import numpy as np\n",
    "from scipy.integrate import solve_ivp\n",
    "\n",
    "# Def\n",
    "def system(t, u):\n",
    "    u1, u2, u3, u4 = u\n",
    "    return [u2, 2*u3 - 5*u1, u4, 2*u1 - 2*u3]\n",
    "\n",
    "# Initial conditions\n",
    "u0 = [1/5, 0, 1/2, 0]\n",
    "\n",
    "# Time span\n",
    "t_span = [0, 10]  # Adjust as needed\n",
    "\n",
    "# Solve the system\n",
    "sol = solve_ivp(system, t_span, u0, method='RK45')\n",
    "\n",
    "# Extract solutions\n",
    "t = sol.t\n",
    "x = sol.y[0]\n",
    "y = sol.y[2]\n",
    "\n",
    "# Print the solutions\n",
    "for i in range(len(t)):\n",
    "    print(f\"t={t[i]:.2f}, x={x[i]:.4f}, y={y[i]:.4f}\")"
   ]
  },
  {
   "cell_type": "code",
   "execution_count": null,
   "id": "6b9e8b7c",
   "metadata": {},
   "outputs": [],
   "source": [
    "import math\n",
    "\n",
    "def find_roots (a, b, c):\n",
    "\n",
    "    a=float(input(\"Enter a:\"))\n",
    "    b=float(input(\"Enter b:\"))\n",
    "    c=float(input(\"Enter c:\"))\n",
    "    \n",
    "    d = b**2 - 4*a*c\n",
    "    \n",
    "    if d > 0:\n",
    "        root1 = (-b + math.sqrt(d)) / (2*a)\n",
    "        root2 = (-b - math.sqrt(d)) / (2*a)\n",
    "        return root1, root2\n",
    "    elif d == 0:\n",
    "        root = -b / (2*a)\n",
    "        return root,\n",
    "    else:\n",
    "        real_part = -b / (2*a)\n",
    "        imaginary_part = math.sqrt(abs(d)) / (2*a)\n",
    "        root1 = complex(real_part, imaginary_part)\n",
    "        root2 = complex(real_part, -imaginary_part)\n",
    "        return root1, root2\n",
    "\n",
    "    "
   ]
  },
  {
   "cell_type": "code",
   "execution_count": 6,
   "id": "2b762c46",
   "metadata": {},
   "outputs": [
    {
     "name": "stdout",
     "output_type": "stream",
     "text": [
      "Quadratic Equation: ax^2 + bx + c = 0\n",
      "Enter the value of a: 2\n",
      "Enter the value of b: 4\n",
      "Enter the value of c: 6\n",
      "Roots are complex numbers:\n",
      "Root 1: (-1+1.4142135623730951j)\n",
      "Root 2: (-1-1.4142135623730951j)\n"
     ]
    }
   ],
   "source": [
    "import math\n",
    "\n",
    "def find_roots(a, b, c):\n",
    "    d = b**2 - 4*a*c\n",
    "    if d > 0:\n",
    "        root1 = (-b + math.sqrt(d)) / (2*a)\n",
    "        root2 = (-b - math.sqrt(d)) / (2*a)\n",
    "        return root1, root2\n",
    "    elif d == 0:\n",
    "        root = -b / (2*a)\n",
    "        return root, root\n",
    "    else:\n",
    "        real_part = -b / (2*a)\n",
    "        imaginary_part = math.sqrt(abs(d)) / (2*a)\n",
    "        root1 = complex(real_part, imaginary_part)\n",
    "        root2 = complex(real_part, -imaginary_part)\n",
    "        return root1, root2\n",
    "\n",
    "def main():\n",
    "    print(\"Quadratic Equation: ax^2 + bx + c = 0\")\n",
    "    a = float(input(\"Enter the value of a: \"))\n",
    "    b = float(input(\"Enter the value of b: \"))\n",
    "    c = float(input(\"Enter the value of c: \"))\n",
    "\n",
    "    roots = find_roots(a, b, c)\n",
    "    \n",
    "    if isinstance(roots[0], complex):\n",
    "        print(\"Roots are complex numbers:\")\n",
    "        print(\"Root 1:\", roots[0])\n",
    "        print(\"Root 2:\", roots[1])\n",
    "    else:\n",
    "        print(\"Roots are real numbers:\")\n",
    "        print(\"Root 1:\", roots[0])\n",
    "        print(\"Root 2:\", roots[1])\n",
    "\n",
    "if __name__ == \"__main__\":\n",
    "    main()"
   ]
  },
  {
   "cell_type": "code",
   "execution_count": null,
   "id": "4466af43",
   "metadata": {},
   "outputs": [],
   "source": [
    "import datetime\n",
    "\n",
    "def calculate_age(date_of_birth):\n",
    "    today = datetime.date.today()\n",
    "    age = today.year - date_of_birth.year - ((today.month, today.day) < (date_of_birth.month, date_of_birth.day))\n",
    "    return age\n",
    "\n",
    "def main():\n",
    "    day = int(input(\"Enter the day of birth: \"))\n",
    "    month = int(input(\"Enter the month of birth (1-12): \"))\n",
    "    year = int(input(\"Enter the year of birth: \"))\n",
    "\n",
    "    try:\n",
    "        date_of_birth = datetime.date(year, month, day)\n",
    "        age = calculate_age(date_of_birth)\n",
    "        print(f\"You are {age} years old.\")\n",
    "    except ValueError:\n",
    "        print(\"Invalid date of birth.\")\n",
    "\n",
    "if _name_ == \"_main_\":\n",
    "    main()"
   ]
  },
  {
   "cell_type": "code",
   "execution_count": 7,
   "id": "51ac947b",
   "metadata": {},
   "outputs": [
    {
     "name": "stdout",
     "output_type": "stream",
     "text": [
      "my name is rose\n",
      "my name is rose\n",
      "my name is rose\n",
      "my name is rose\n",
      "my name is rose\n",
      "my name is rose\n",
      "my name is rose\n",
      "my name is rose\n",
      "my name is rose\n",
      "my name is rose\n",
      "my name is rose\n",
      "my name is rose\n",
      "my name is rose\n",
      "my name is rose\n",
      "my name is rose\n",
      "my name is rose\n",
      "my name is rose\n",
      "my name is rose\n",
      "my name is rose\n",
      "my name is rose\n",
      "my name is rose\n",
      "my name is rose\n",
      "my name is rose\n",
      "my name is rose\n",
      "my name is rose\n",
      "r\n"
     ]
    }
   ],
   "source": [
    "name=(\"my name is rose\")\n",
    "for i in range (25):\n",
    "    print(name)\n",
    "print(name[11])   "
   ]
  },
  {
   "cell_type": "markdown",
   "id": "709a6670",
   "metadata": {},
   "source": [
    "# SYMBOLIC PYTHON SymPy\n",
    "\n",
    "import sympy as sp\n",
    "symbol is invoked inside the library \n",
    "\n"
   ]
  },
  {
   "cell_type": "code",
   "execution_count": 22,
   "id": "c3694c97",
   "metadata": {},
   "outputs": [
    {
     "data": {
      "text/latex": [
       "$\\displaystyle \\frac{d}{d x} y{\\left(x \\right)} = x + y^{2}{\\left(x \\right)}$"
      ],
      "text/plain": [
       "Eq(Derivative(y(x), x), x + y(x)**2)"
      ]
     },
     "execution_count": 22,
     "metadata": {},
     "output_type": "execute_result"
    }
   ],
   "source": [
    "import sympy as sp\n",
    "x=sp.Symbol(\"x\")\n",
    "y=sp.Function(\"y\")\n",
    "f=(y(x)**2+x)YYY\n",
    "sp.Eq(y(x).diff(x),f)"
   ]
  },
  {
   "cell_type": "code",
   "execution_count": 5,
   "id": "b7f26232",
   "metadata": {},
   "outputs": [
    {
     "data": {
      "text/latex": [
       "$\\displaystyle 1 = x + y^{2}{\\left(x \\right)}$"
      ],
      "text/plain": [
       "Eq(1, x + y(x)**2)"
      ]
     },
     "execution_count": 5,
     "metadata": {},
     "output_type": "execute_result"
    }
   ],
   "source": [
    "import sympy as sp\n",
    "x=sp.Symbol(\"x\")\n",
    "y=sp.Function(\"y\")\n",
    "f=x+(y(x)**2)\n",
    "sp.Eq(y.diff(x),f)"
   ]
  },
  {
   "cell_type": "markdown",
   "id": "caa6535c",
   "metadata": {},
   "source": []
  },
  {
   "cell_type": "code",
   "execution_count": 5,
   "id": "8e87a534",
   "metadata": {},
   "outputs": [
    {
     "name": "stdout",
     "output_type": "stream",
     "text": [
      "[[5 6]\n",
      " [3 4]\n",
      " [5 5]\n",
      " [4 7]]\n",
      "Rank of matrix A: 2\n",
      "Singular values of matrix A: [14.10187394  1.4618999 ]\n"
     ]
    }
   ],
   "source": [
    "import numpy as np\n",
    "A = np.array([[5, 6], [3, 4], [5, 5], [4, 7]])\n",
    "print(A)\n",
    "rank_A = np.linalg.matrix_rank(A)\n",
    "print(\"Rank of matrix A:\", rank_A)\n",
    "U, s, V = np.linalg.svd(A)\n",
    "print(\"Singular values of matrix A:\", s)\n"
   ]
  },
  {
   "cell_type": "code",
   "execution_count": 6,
   "id": "55296b7b",
   "metadata": {},
   "outputs": [
    {
     "name": "stdout",
     "output_type": "stream",
     "text": [
      "2\n",
      "[14.10187394  1.4618999 ]\n"
     ]
    }
   ],
   "source": [
    "import numpy as np\n",
    "A = np.array([[5, 6], [3, 4], [5, 5], [4, 7]])\n",
    "rank_A = np.linalg.matrix_rank(A)\n",
    "print(rank_A)\n",
    "U, s, V = np.linalg.svd(A)\n",
    "print(s)\n"
   ]
  },
  {
   "cell_type": "code",
   "execution_count": 7,
   "id": "9a6cac15",
   "metadata": {},
   "outputs": [
    {
     "name": "stdout",
     "output_type": "stream",
     "text": [
      "[[3 4 5]\n",
      " [4 5 6]\n",
      " [5 6 7]]\n",
      "2\n",
      "[1.53898669e+01 3.89866919e-01 4.68316601e-16]\n",
      "1.7763568394002524e-15\n",
      "[[3 4 5]\n",
      " [4 5 6]\n",
      " [5 6 7]]\n",
      "[[3 4 5]\n",
      " [4 5 6]\n",
      " [5 6 7]]\n"
     ]
    }
   ],
   "source": [
    "import numpy as np\n",
    "A=np.array([[3,4,5],\n",
    "    [4,5,6],\n",
    "    [5,6,7]])\n",
    "print(A)\n",
    "np.shape(A)\n",
    "rank_A=np.linalg.matrix_rank(A)\n",
    "print(rank_A)\n",
    "U,s,V=np.linalg.svd(A)\n",
    "print(s)\n",
    "determinant_A=np.linalg.det(A)\n",
    "print(determinant_A)\n",
    "transpose_A = np.transpose(A)\n",
    "print(transpose_A)\n",
    "transpose_A=np.transpose(A)\n",
    "print(transpose_A)"
   ]
  },
  {
   "cell_type": "code",
   "execution_count": 9,
   "id": "5ee14560",
   "metadata": {},
   "outputs": [
    {
     "name": "stdout",
     "output_type": "stream",
     "text": [
      "(2.3856472353145364e-12, -7.757350317660894e-12, -6.999956170261612e-13)\n"
     ]
    }
   ],
   "source": [
    "from scipy.optimize import fsolve\n",
    "\n",
    "# Defining a function for solving equations\n",
    "def equations(p):\n",
    "    y, z, t = p\n",
    "    f1 = 10*z*t + 4*y*z*t - 5*y*t + 4*t*z**2 - 7  # corrected syntax for exponentiation\n",
    "    f2 = 2*y*z*t + 5*y*t - 3\n",
    "    f3 = 10*t + 2*y*t + 4*z*t - 1  # corrected equation\n",
    "    return (f1, f2, f3)\n",
    "initial_guess = (1, 1, 1)\n",
    "\n",
    "# Solving equations using fsolve\n",
    "y, z, t = fsolve(equations, initial_guess)\n",
    "\n",
    "# Printing the solution\n",
    "print(equations((y, z, t)))"
   ]
  },
  {
   "cell_type": "code",
   "execution_count": 11,
   "id": "0c55a808",
   "metadata": {},
   "outputs": [
    {
     "name": "stdout",
     "output_type": "stream",
     "text": [
      "Subset of items in the knapsack:\n",
      "Weight: 1 Value: 40\n",
      "Weight: 3 Value: 105\n",
      "Total Weight: 4 Total Value: 145\n"
     ]
    }
   ],
   "source": [
    "# Given data\n",
    "items = [(3, 105), (2, 20), (4, 60), (1, 40)]  # (weight, value)\n",
    "capacity = 5  # knapsack capacity\n",
    "\n",
    "# Compute value-to-weight ratio for each item\n",
    "value_weight_ratio = [(value / weight, weight, value) for weight, value in items]\n",
    "\n",
    "# Sort items based on value-to-weight ratio in descending order\n",
    "value_weight_ratio.sort(reverse=True)\n",
    "\n",
    "# Initialize variables\n",
    "knapsack_items = []\n",
    "total_weight = 0\n",
    "total_value = 0\n",
    "\n",
    "# Greedily fill the knapsack\n",
    "for ratio, weight, value in value_weight_ratio:\n",
    "    if total_weight + weight <= capacity:\n",
    "        knapsack_items.append((weight, value))\n",
    "        total_weight += weight\n",
    "        total_value += value\n",
    "\n",
    "# Print the subset of items in the knapsack\n",
    "print(\"Subset of items in the knapsack:\")\n",
    "for weight, value in knapsack_items:\n",
    "    print(\"Weight:\", weight, \"Value:\", value)\n",
    "\n",
    "# Print total weight and value of the items in the knapsack\n",
    "print(\"Total Weight:\", total_weight, \"Total Value:\", total_value)"
   ]
  },
  {
   "cell_type": "code",
   "execution_count": 12,
   "id": "329d5c81",
   "metadata": {},
   "outputs": [
    {
     "name": "stdout",
     "output_type": "stream",
     "text": [
      "Subset of items in the knapsack:\n",
      "Weight: 1 Value: 40\n",
      "Weight: 3 Value: 105\n",
      "Total Weight: 4 Total Value: 145\n"
     ]
    }
   ],
   "source": [
    "items = [(3, 105), (2, 20), (4, 60), (1, 40)]  # (weight, value)\n",
    "capacity = 5  # knapsack capacity\n",
    "\n",
    "# Compute value-to-weight ratio for each item\n",
    "value_weight_ratio = [(value / weight, weight, value) for weight, value in items]\n",
    "\n",
    "# Sort items based on value-to-weight ratio in descending order\n",
    "value_weight_ratio.sort(reverse=True)\n",
    "\n",
    "# Initialize variables\n",
    "knapsack_items = []\n",
    "total_weight = 0\n",
    "total_value = 0\n",
    "\n",
    "# Greedily fill the knapsack\n",
    "for ratio, weight, value in value_weight_ratio:\n",
    "    if total_weight + weight <= capacity:\n",
    "        knapsack_items.append((weight, value))\n",
    "        total_weight += weight\n",
    "        total_value += value\n",
    "\n",
    "# Print the subset of items in the knapsack\n",
    "print(\"Subset of items in the knapsack:\")\n",
    "for weight, value in knapsack_items:\n",
    "    print(\"Weight:\", weight, \"Value:\", value)\n",
    "\n",
    "# Print total weight and value of the items in the knapsack\n",
    "print(\"Total Weight:\", total_weight, \"Total Value:\", total_value)"
   ]
  },
  {
   "cell_type": "code",
   "execution_count": null,
   "id": "816df4b8",
   "metadata": {},
   "outputs": [],
   "source": [
    "def roots(a, b, c):\n",
    "    k = b**2 - 4*a*c\n",
    "    if k < 0:\n",
    "        print(\"Complex roots\")\n",
    "    elif k > 0:\n",
    "        print(\"Distinct  roots\")\n",
    "    else:\n",
    "        print(\"Repeated  roots\")\n",
    "\n",
    "a = float(input(\"Enter coefficient a: \"))\n",
    "b = float(input(\"Enter coefficient b: \"))\n",
    "c = float(input(\"Enter coefficient c: \"))\n",
    "\n",
    "roots(a, b, c)"
   ]
  },
  {
   "cell_type": "code",
   "execution_count": null,
   "id": "38cc2399",
   "metadata": {},
   "outputs": [],
   "source": [
    "import math\n",
    "def roots(a,b,c):\n",
    "    if(b**2-4*a*c)<0:\n",
    "        print(\"Complex roots\")\n",
    "    elif(b**2-4*a*c)>0:\n",
    "        print(\"Distinc roots\")\n",
    "    else:\n",
    "        print(\"Repeated roots\")"
   ]
  },
  {
   "cell_type": "code",
   "execution_count": null,
   "id": "c64c2966",
   "metadata": {},
   "outputs": [],
   "source": [
    "import sympy as sp\n",
    "import numpy as np\n",
    "import matplotlib.pyplot as plt\n",
    "\n",
    "# Define the variable and the polynomial\n",
    "x = sp.Symbol('x')\n",
    "p = 2*x**6 - 51*x**4 + 48*x**3 + 312*x**2 - 576*x - 100\n",
    "\n",
    "# Compute the first and second derivatives\n",
    "p_prime = sp.diff(p, x)\n",
    "p_double_prime = sp.diff(p_prime, x)\n",
    "\n",
    "# Find critical points by solving p_prime = 0\n",
    "critical_points = sp.solve(p_prime, x)\n",
    "\n",
    "# Initialize lists to store minima and maxima\n",
    "minima = set()\n",
    "maxima = set()\n",
    "\n",
    "# Classify critical points using second derivative test\n",
    "for point in critical_points:\n",
    "    second_derivative_value = p_double_prime.subs(x, point)\n",
    "    if second_derivative_value > 0:\n",
    "        minima.add(point)\n",
    "    elif second_derivative_value < 0:\n",
    "        maxima.add(point)\n",
    "\n",
    "# Plot the polynomial over the interval [-5, 5]\n",
    "x_values = np.linspace(-5, 5, 400)\n",
    "y_values = [p.subs(x, val) for val in x_values]\n",
    "\n",
    "plt.plot(x_values, y_values, label='p(x)')\n",
    "\n",
    "# Mark minima and maxima on the plot\n",
    "for minimum in minima:\n",
    "    plt.scatter(minimum, p.subs(x, minimum), color='blue', label='Local Minimum')\n",
    "\n",
    "for maximum in maxima:\n",
    "    plt.scatter(maximum, p.subs(x, maximum), color='red', label='Local Maximum')\n",
    "\n",
    "plt.xlabel('x')\n",
    "plt.ylabel('p(x)')\n",
    "plt.title('Plot of p(x) with Local Minima and Maxima')\n",
    "plt.legend()\n",
    "plt.grid(True)\n",
    "plt.show()\n",
    "\n",
    "# Return minima and maxima as sets\n",
    "print(\"Local Minima:\", minima)\n",
    "print(\"Local Maxima:\", maxima)\n"
   ]
  },
  {
   "cell_type": "markdown",
   "id": "4d47f4ff",
   "metadata": {},
   "source": [
    "# converting coloured image to gray scale"
   ]
  },
  {
   "cell_type": "code",
   "execution_count": null,
   "id": "baf3391b",
   "metadata": {},
   "outputs": [],
   "source": [
    "import cv2\n",
    "import numpy as np\n",
    "\n",
    "# Method 1: Averaging Method\n",
    "def grayscale_averaging(img):\n",
    "    return cv2.cvtColor(img, cv2.COLOR_BGR2GRAY)\n",
    "\n",
    "# Method 2: Weighted Method (Luminosity Method)\n",
    "def grayscale_weighted(img):\n",
    "    # Weighted formula: Y = 0.299*R + 0.587*G + 0.114*B\n",
    "    return np.dot(img[..., :3], [0.299, 0.587, 0.114]).astype(np.uint8)\n",
    "\n",
    "# Load the colored image\n",
    "img = cv2.imread('colored_image.jpg')\n",
    "\n",
    "# Convert using averaging method\n",
    "gray_img_averaging = grayscale_averaging(img)\n",
    "\n",
    "# Convert using weighted method\n",
    "gray_img_weighted = grayscale_weighted(img)\n",
    "\n",
    "# Display the original and grayscale images\n",
    "cv2.imshow('Original Image', img)\n",
    "cv2.imshow('Grayscale Image (Averaging Method)', gray_img_averaging)\n",
    "cv2.imshow('Grayscale Image (Weighted Method)', gray_img_weighted)\n",
    "\n",
    "# Save grayscale images\n",
    "cv2.imwrite('gray_image_averaging.jpg', gray_img_averaging)\n",
    "cv2.imwrite('gray_image_weighted.jpg', gray_img_weighted)\n",
    "\n",
    "# Wait for key press and close windows\n",
    "cv2.waitKey(0)\n",
    "cv2.destroyAllWindows()"
   ]
  },
  {
   "cell_type": "code",
   "execution_count": null,
   "id": "2e9ff672",
   "metadata": {},
   "outputs": [],
   "source": []
  }
 ],
 "metadata": {
  "kernelspec": {
   "display_name": "Python 3 (ipykernel)",
   "language": "python",
   "name": "python3"
  },
  "language_info": {
   "codemirror_mode": {
    "name": "ipython",
    "version": 3
   },
   "file_extension": ".py",
   "mimetype": "text/x-python",
   "name": "python",
   "nbconvert_exporter": "python",
   "pygments_lexer": "ipython3",
   "version": "3.9.12"
  }
 },
 "nbformat": 4,
 "nbformat_minor": 5
}
